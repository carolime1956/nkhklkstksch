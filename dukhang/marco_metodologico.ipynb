{
 "cells": [
  {
   "cell_type": "markdown",
   "metadata": {},
   "source": [
    "# Metodología de diseño."
   ]
  },
  {
   "cell_type": "code",
   "execution_count": null,
   "metadata": {},
   "outputs": [],
   "source": [
    "import numpy as np\n",
    "import pandas as pd\n",
    "#import tabloo as tbl\n",
    "#import matplotlib.pyplot as plt\n",
    "\n",
    "#import dtale as dtl\n",
    "#import json\n",
    "#import requests\n",
    "#import geopandas as gpd\n",
    "\n",
    "#from pandasgui import show\n",
    "#from koboextractor import KoboExtractor as kbe\n",
    "#from dateutil.parser import *\n",
    "#from datetime import *\n",
    "#from sympy.interactive import printing\n",
    "\n",
    "## shapely.geometry import\n",
    "\n",
    "#%matplotlib inline\n",
    "#%load_ext qgisnbextension\n",
    "\n",
    "#pd.options.display.float_format = '{:,.13f}'.format\n",
    "pd.set_option('display.max_rows', None)\n",
    "#pd.set_option('display.max_columns', None)\n",
    "#pd.set_option('display.width', None)\n",
    "#pd.set_option('display.max_colwidth', None)\n",
    "\n",
    "#printing.init_printing(use_latex=True)"
   ]
  },
  {
   "cell_type": "code",
   "execution_count": null,
   "metadata": {},
   "outputs": [],
   "source": [
    "# Importar base de datos generada a partir de encuesta preliminar.\n",
    "datos_preliminar = "
   ]
  },
  {
   "cell_type": "markdown",
   "metadata": {},
   "source": []
  }
 ],
 "metadata": {
  "kernelspec": {
   "display_name": "Python 3",
   "language": "python",
   "name": "python3"
  },
  "language_info": {
   "codemirror_mode": {
    "name": "ipython",
    "version": 3
   },
   "file_extension": ".py",
   "mimetype": "text/x-python",
   "name": "python",
   "nbconvert_exporter": "python",
   "pygments_lexer": "ipython3",
   "version": "3.9.5"
  }
 },
 "nbformat": 4,
 "nbformat_minor": 4
}
